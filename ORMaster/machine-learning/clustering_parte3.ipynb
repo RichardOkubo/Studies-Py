{
 "cells": [
  {
   "cell_type": "markdown",
   "metadata": {},
   "source": [
    "# Clusterização\n",
    "\n",
    "## Trabalhando com dados categóricos\n",
    "\n"
   ]
  },
  {
   "cell_type": "code",
   "execution_count": 2,
   "metadata": {},
   "outputs": [
    {
     "data": {
      "text/html": [
       "<div>\n",
       "<style scoped>\n",
       "    .dataframe tbody tr th:only-of-type {\n",
       "        vertical-align: middle;\n",
       "    }\n",
       "\n",
       "    .dataframe tbody tr th {\n",
       "        vertical-align: top;\n",
       "    }\n",
       "\n",
       "    .dataframe thead th {\n",
       "        text-align: right;\n",
       "    }\n",
       "</style>\n",
       "<table border=\"1\" class=\"dataframe\">\n",
       "  <thead>\n",
       "    <tr style=\"text-align: right;\">\n",
       "      <th></th>\n",
       "      <th>idade</th>\n",
       "      <th>conta_corrente</th>\n",
       "      <th>risco</th>\n",
       "    </tr>\n",
       "  </thead>\n",
       "  <tbody>\n",
       "    <tr>\n",
       "      <td>0</td>\n",
       "      <td>21.257389</td>\n",
       "      <td>783.127911</td>\n",
       "      <td>ruim</td>\n",
       "    </tr>\n",
       "    <tr>\n",
       "      <td>1</td>\n",
       "      <td>21.766573</td>\n",
       "      <td>979.747521</td>\n",
       "      <td>bom</td>\n",
       "    </tr>\n",
       "    <tr>\n",
       "      <td>2</td>\n",
       "      <td>25.321033</td>\n",
       "      <td>1065.328054</td>\n",
       "      <td>ruim</td>\n",
       "    </tr>\n",
       "    <tr>\n",
       "      <td>3</td>\n",
       "      <td>23.919268</td>\n",
       "      <td>1195.758078</td>\n",
       "      <td>bom</td>\n",
       "    </tr>\n",
       "    <tr>\n",
       "      <td>4</td>\n",
       "      <td>21.805298</td>\n",
       "      <td>1083.764450</td>\n",
       "      <td>bom</td>\n",
       "    </tr>\n",
       "  </tbody>\n",
       "</table>\n",
       "</div>"
      ],
      "text/plain": [
       "       idade  conta_corrente risco\n",
       "0  21.257389      783.127911  ruim\n",
       "1  21.766573      979.747521   bom\n",
       "2  25.321033     1065.328054  ruim\n",
       "3  23.919268     1195.758078   bom\n",
       "4  21.805298     1083.764450   bom"
      ]
     },
     "execution_count": 2,
     "metadata": {},
     "output_type": "execute_result"
    }
   ],
   "source": [
    "import pandas as pd\n",
    "\n",
    "df = pd.read_csv('dados/exemplo2.csv')\n",
    "df.head()"
   ]
  },
  {
   "cell_type": "markdown",
   "metadata": {},
   "source": [
    "Nesse exemplo, temos uma coluna indicando o risco do cliente de forma categórica: bom ou ruim. Para a clusterização, precisamos transformar dados categóricos em dados numéricos.\n",
    "\n",
    "O forma mais adequado para a quantificação de dados categóricos é através do método conhecido como _one hot encoder_. Esse método utiliza a binarização para a tranformação dos dados. No ```exemplo2```, temos duas opções de valores para a coluna ```risco```: bom ou ruim. Para binarizar essa coluna, criaremos uma nova coluna identificada como ```risco_bom```, tendo valor igual a 1, caso o risco seja bom e 0 caso contrário. \n",
    "\n",
    "Para executar a transformação criaremos uma função chamada ```encoder()```, que recebe a coluna (nesse caso o risco) e a categoria que corresponde ao valor 1 (verdadeiro), retornando 1, caso ```coluna = categoria``` e 0, caso contrário."
   ]
  },
  {
   "cell_type": "code",
   "execution_count": 3,
   "metadata": {},
   "outputs": [],
   "source": [
    "def encoder(column, true_value):\n",
    "    if column == true_value:\n",
    "        return 1.0\n",
    "    else:\n",
    "        return 0.0"
   ]
  },
  {
   "cell_type": "markdown",
   "metadata": {},
   "source": [
    "Para criar a nova coluna com base na função definida acima, utilizamos o comando ```Series.apply(função, args=())```."
   ]
  },
  {
   "cell_type": "code",
   "execution_count": 4,
   "metadata": {},
   "outputs": [
    {
     "data": {
      "text/html": [
       "<div>\n",
       "<style scoped>\n",
       "    .dataframe tbody tr th:only-of-type {\n",
       "        vertical-align: middle;\n",
       "    }\n",
       "\n",
       "    .dataframe tbody tr th {\n",
       "        vertical-align: top;\n",
       "    }\n",
       "\n",
       "    .dataframe thead th {\n",
       "        text-align: right;\n",
       "    }\n",
       "</style>\n",
       "<table border=\"1\" class=\"dataframe\">\n",
       "  <thead>\n",
       "    <tr style=\"text-align: right;\">\n",
       "      <th></th>\n",
       "      <th>idade</th>\n",
       "      <th>conta_corrente</th>\n",
       "      <th>risco</th>\n",
       "      <th>risco_bom</th>\n",
       "    </tr>\n",
       "  </thead>\n",
       "  <tbody>\n",
       "    <tr>\n",
       "      <td>0</td>\n",
       "      <td>21.257389</td>\n",
       "      <td>783.127911</td>\n",
       "      <td>ruim</td>\n",
       "      <td>0.0</td>\n",
       "    </tr>\n",
       "    <tr>\n",
       "      <td>1</td>\n",
       "      <td>21.766573</td>\n",
       "      <td>979.747521</td>\n",
       "      <td>bom</td>\n",
       "      <td>1.0</td>\n",
       "    </tr>\n",
       "    <tr>\n",
       "      <td>2</td>\n",
       "      <td>25.321033</td>\n",
       "      <td>1065.328054</td>\n",
       "      <td>ruim</td>\n",
       "      <td>0.0</td>\n",
       "    </tr>\n",
       "    <tr>\n",
       "      <td>3</td>\n",
       "      <td>23.919268</td>\n",
       "      <td>1195.758078</td>\n",
       "      <td>bom</td>\n",
       "      <td>1.0</td>\n",
       "    </tr>\n",
       "    <tr>\n",
       "      <td>4</td>\n",
       "      <td>21.805298</td>\n",
       "      <td>1083.764450</td>\n",
       "      <td>bom</td>\n",
       "      <td>1.0</td>\n",
       "    </tr>\n",
       "  </tbody>\n",
       "</table>\n",
       "</div>"
      ],
      "text/plain": [
       "       idade  conta_corrente risco  risco_bom\n",
       "0  21.257389      783.127911  ruim        0.0\n",
       "1  21.766573      979.747521   bom        1.0\n",
       "2  25.321033     1065.328054  ruim        0.0\n",
       "3  23.919268     1195.758078   bom        1.0\n",
       "4  21.805298     1083.764450   bom        1.0"
      ]
     },
     "execution_count": 4,
     "metadata": {},
     "output_type": "execute_result"
    }
   ],
   "source": [
    "df['risco_bom'] = df.risco.apply(encoder, args=('bom',))\n",
    "df.head()"
   ]
  },
  {
   "cell_type": "markdown",
   "metadata": {},
   "source": [
    "Eliminaremos, agora, o coluna ```risco``` utilizando o comando ```DataFrame.drop(\"nome_da_coluna\", axis=1, inplace=True)```"
   ]
  },
  {
   "cell_type": "code",
   "execution_count": 5,
   "metadata": {},
   "outputs": [
    {
     "data": {
      "text/html": [
       "<div>\n",
       "<style scoped>\n",
       "    .dataframe tbody tr th:only-of-type {\n",
       "        vertical-align: middle;\n",
       "    }\n",
       "\n",
       "    .dataframe tbody tr th {\n",
       "        vertical-align: top;\n",
       "    }\n",
       "\n",
       "    .dataframe thead th {\n",
       "        text-align: right;\n",
       "    }\n",
       "</style>\n",
       "<table border=\"1\" class=\"dataframe\">\n",
       "  <thead>\n",
       "    <tr style=\"text-align: right;\">\n",
       "      <th></th>\n",
       "      <th>idade</th>\n",
       "      <th>conta_corrente</th>\n",
       "      <th>risco_bom</th>\n",
       "    </tr>\n",
       "  </thead>\n",
       "  <tbody>\n",
       "    <tr>\n",
       "      <td>0</td>\n",
       "      <td>21.257389</td>\n",
       "      <td>783.127911</td>\n",
       "      <td>0.0</td>\n",
       "    </tr>\n",
       "    <tr>\n",
       "      <td>1</td>\n",
       "      <td>21.766573</td>\n",
       "      <td>979.747521</td>\n",
       "      <td>1.0</td>\n",
       "    </tr>\n",
       "    <tr>\n",
       "      <td>2</td>\n",
       "      <td>25.321033</td>\n",
       "      <td>1065.328054</td>\n",
       "      <td>0.0</td>\n",
       "    </tr>\n",
       "    <tr>\n",
       "      <td>3</td>\n",
       "      <td>23.919268</td>\n",
       "      <td>1195.758078</td>\n",
       "      <td>1.0</td>\n",
       "    </tr>\n",
       "    <tr>\n",
       "      <td>4</td>\n",
       "      <td>21.805298</td>\n",
       "      <td>1083.764450</td>\n",
       "      <td>1.0</td>\n",
       "    </tr>\n",
       "  </tbody>\n",
       "</table>\n",
       "</div>"
      ],
      "text/plain": [
       "       idade  conta_corrente  risco_bom\n",
       "0  21.257389      783.127911        0.0\n",
       "1  21.766573      979.747521        1.0\n",
       "2  25.321033     1065.328054        0.0\n",
       "3  23.919268     1195.758078        1.0\n",
       "4  21.805298     1083.764450        1.0"
      ]
     },
     "execution_count": 5,
     "metadata": {},
     "output_type": "execute_result"
    }
   ],
   "source": [
    "df.drop('risco', axis=1, inplace=True)\n",
    "df.head()"
   ]
  },
  {
   "cell_type": "markdown",
   "metadata": {},
   "source": [
    "Com a nova coluna, podemos aplicar algoritmos de clusterização. Faremos um teste com o ```Kmeans```, lembrando de normalizar os dados utilizando o ```MinMaxScaler```.\n",
    "\n",
    "__Observação__: como a coluna ```risco_bom``` já está definida na escala entre 0 e 1, a mesma não será afetada pela normalização."
   ]
  },
  {
   "cell_type": "code",
   "execution_count": 6,
   "metadata": {},
   "outputs": [],
   "source": [
    "from sklearn.cluster import KMeans\n",
    "from sklearn.preprocessing import MinMaxScaler\n",
    "\n",
    "X = MinMaxScaler().fit_transform(df[['idade', 'conta_corrente', 'risco_bom']])\n",
    "df['km_3'] = KMeans(n_clusters=3, random_state=1).fit_predict(X)"
   ]
  },
  {
   "cell_type": "code",
   "execution_count": 7,
   "metadata": {},
   "outputs": [],
   "source": [
    "import matplotlib.pyplot as plt\n",
    "\n",
    "def plot(x, y, column_name):\n",
    "    plt.figure(figsize=(10, 7))\n",
    "    plt.xlabel(x)\n",
    "    plt.ylabel(y)\n",
    "    for c in sorted(df[column_name].unique()):\n",
    "        plt.scatter(df[df[column_name] == c][x], df[df[column_name] == c][y]) \n",
    "    plt.legend([f'cluster {c}' for c in sorted(df[column_name].unique())])"
   ]
  },
  {
   "cell_type": "code",
   "execution_count": 8,
   "metadata": {},
   "outputs": [
    {
     "data": {
      "image/png": "[encoded data removed]",
      "text/plain": [
       "<Figure size 720x504 with 1 Axes>"
      ]
     },
     "metadata": {
      "needs_background": "light"
     },
     "output_type": "display_data"
    }
   ],
   "source": [
    "plot('idade', 'conta_corrente', 'km_3')"
   ]
  },
  {
   "cell_type": "code",
   "execution_count": 9,
   "metadata": {},
   "outputs": [
    {
     "name": "stdout",
     "output_type": "stream",
     "text": [
      "cluster 0: risco bom = 0.0 %\n",
      "cluster 1: risco bom = 100.0 %\n",
      "cluster 2: risco bom = 100.0 %\n"
     ]
    }
   ],
   "source": [
    "for c in sorted(df.km_3.unique()):\n",
    "    n = df[df.km_3 == c].risco_bom.mean()\n",
    "    print(f'cluster {c}: risco bom = {n * 100} %')"
   ]
  },
  {
   "cell_type": "code",
   "execution_count": 10,
   "metadata": {},
   "outputs": [],
   "source": [
    "def cluster_report(df, columns, cluster_column):\n",
    "    for c in sorted(df[cluster_column].unique()):\n",
    "        print(f'Cluster {c}')\n",
    "        for column in columns:\n",
    "            if len(df[column].unique()) > 2:\n",
    "                print(f'- {column}: mean = {df[df[cluster_column] == c][column].mean()}')\n",
    "            else:\n",
    "                n = df[df[cluster_column] == c][column].mean()\n",
    "                print(f'- {column}: count = {n * 100} %')"
   ]
  },
  {
   "cell_type": "code",
   "execution_count": 11,
   "metadata": {},
   "outputs": [
    {
     "name": "stdout",
     "output_type": "stream",
     "text": [
      "Cluster 0\n",
      "- idade: mean = 32.95122625257916\n",
      "- conta_corrente: mean = 2095.40948161314\n",
      "- risco_bom: count = 0.0 %\n",
      "Cluster 1\n",
      "- idade: mean = 22.35180574907043\n",
      "- conta_corrente: mean = 1112.2331189415725\n",
      "- risco_bom: count = 100.0 %\n",
      "Cluster 2\n",
      "- idade: mean = 36.978460955791476\n",
      "- conta_corrente: mean = 4808.145796072836\n",
      "- risco_bom: count = 100.0 %\n"
     ]
    }
   ],
   "source": [
    "cluster_report(df, df.columns.values[0:3], 'km_3')"
   ]
  },
  {
   "cell_type": "code",
   "execution_count": 12,
   "metadata": {},
   "outputs": [],
   "source": [
    "df['km_4'] = KMeans(n_clusters=4, random_state=1).fit_predict(X)\n",
    "df['km_5'] = KMeans(n_clusters=5, random_state=1).fit_predict(X)\n",
    "df['km_6'] = KMeans(n_clusters=6, random_state=1).fit_predict(X)"
   ]
  },
  {
   "cell_type": "code",
   "execution_count": 13,
   "metadata": {},
   "outputs": [
    {
     "name": "stdout",
     "output_type": "stream",
     "text": [
      "Cluster 0\n",
      "- idade: mean = 23.303504116727744\n",
      "- conta_corrente: mean = 892.8037889276358\n",
      "- risco_bom: count = 0.0 %\n",
      "Cluster 1\n",
      "- idade: mean = 22.304747860872794\n",
      "- conta_corrente: mean = 1111.0541513348442\n",
      "- risco_bom: count = 100.0 %\n",
      "Cluster 2\n",
      "- idade: mean = 32.453925657389604\n",
      "- conta_corrente: mean = 5153.194669563995\n",
      "- risco_bom: count = 100.0 %\n",
      "Cluster 3\n",
      "- idade: mean = 54.14411020347421\n",
      "- conta_corrente: mean = 2746.411343282708\n",
      "- risco_bom: count = 0.0 %\n",
      "Cluster 4\n",
      "- idade: mean = 56.934335179649985\n",
      "- conta_corrente: mean = 3272.9654266867205\n",
      "- risco_bom: count = 100.0 %\n",
      "Cluster 5\n",
      "- idade: mean = 36.82627224263472\n",
      "- conta_corrente: mean = 4577.569291749365\n",
      "- risco_bom: count = 0.0 %\n"
     ]
    }
   ],
   "source": [
    "cluster_report(df, df.columns.values[0:3], 'km_6')"
   ]
  },
  {
   "cell_type": "code",
   "execution_count": 15,
   "metadata": {},
   "outputs": [
    {
     "data": {
      "text/html": [
       "<div>\n",
       "<style scoped>\n",
       "    .dataframe tbody tr th:only-of-type {\n",
       "        vertical-align: middle;\n",
       "    }\n",
       "\n",
       "    .dataframe tbody tr th {\n",
       "        vertical-align: top;\n",
       "    }\n",
       "\n",
       "    .dataframe thead th {\n",
       "        text-align: right;\n",
       "    }\n",
       "</style>\n",
       "<table border=\"1\" class=\"dataframe\">\n",
       "  <thead>\n",
       "    <tr style=\"text-align: right;\">\n",
       "      <th></th>\n",
       "      <th>idade</th>\n",
       "      <th>conta_corrente</th>\n",
       "      <th>sexo</th>\n",
       "      <th>risco</th>\n",
       "    </tr>\n",
       "  </thead>\n",
       "  <tbody>\n",
       "    <tr>\n",
       "      <td>0</td>\n",
       "      <td>21.257389</td>\n",
       "      <td>783.127911</td>\n",
       "      <td>masculino</td>\n",
       "      <td>ruim</td>\n",
       "    </tr>\n",
       "    <tr>\n",
       "      <td>1</td>\n",
       "      <td>21.766573</td>\n",
       "      <td>979.747521</td>\n",
       "      <td>feminino</td>\n",
       "      <td>bom</td>\n",
       "    </tr>\n",
       "    <tr>\n",
       "      <td>2</td>\n",
       "      <td>25.321033</td>\n",
       "      <td>1065.328054</td>\n",
       "      <td>feminino</td>\n",
       "      <td>bom</td>\n",
       "    </tr>\n",
       "    <tr>\n",
       "      <td>3</td>\n",
       "      <td>23.919268</td>\n",
       "      <td>1195.758078</td>\n",
       "      <td>feminino</td>\n",
       "      <td>bom</td>\n",
       "    </tr>\n",
       "    <tr>\n",
       "      <td>4</td>\n",
       "      <td>21.805298</td>\n",
       "      <td>1083.764450</td>\n",
       "      <td>feminino</td>\n",
       "      <td>bom</td>\n",
       "    </tr>\n",
       "  </tbody>\n",
       "</table>\n",
       "</div>"
      ],
      "text/plain": [
       "       idade  conta_corrente       sexo risco\n",
       "0  21.257389      783.127911  masculino  ruim\n",
       "1  21.766573      979.747521   feminino   bom\n",
       "2  25.321033     1065.328054   feminino   bom\n",
       "3  23.919268     1195.758078   feminino   bom\n",
       "4  21.805298     1083.764450   feminino   bom"
      ]
     },
     "execution_count": 15,
     "metadata": {},
     "output_type": "execute_result"
    }
   ],
   "source": [
    "df2 = pd.read_csv('dados/exemplo3.csv')\n",
    "df2.head()"
   ]
  },
  {
   "cell_type": "code",
   "execution_count": 16,
   "metadata": {},
   "outputs": [
    {
     "data": {
      "text/html": [
       "<div>\n",
       "<style scoped>\n",
       "    .dataframe tbody tr th:only-of-type {\n",
       "        vertical-align: middle;\n",
       "    }\n",
       "\n",
       "    .dataframe tbody tr th {\n",
       "        vertical-align: top;\n",
       "    }\n",
       "\n",
       "    .dataframe thead th {\n",
       "        text-align: right;\n",
       "    }\n",
       "</style>\n",
       "<table border=\"1\" class=\"dataframe\">\n",
       "  <thead>\n",
       "    <tr style=\"text-align: right;\">\n",
       "      <th></th>\n",
       "      <th>idade</th>\n",
       "      <th>conta_corrente</th>\n",
       "      <th>risco_bom</th>\n",
       "      <th>sexo_masculino</th>\n",
       "    </tr>\n",
       "  </thead>\n",
       "  <tbody>\n",
       "    <tr>\n",
       "      <td>0</td>\n",
       "      <td>21.257389</td>\n",
       "      <td>783.127911</td>\n",
       "      <td>0.0</td>\n",
       "      <td>1.0</td>\n",
       "    </tr>\n",
       "    <tr>\n",
       "      <td>1</td>\n",
       "      <td>21.766573</td>\n",
       "      <td>979.747521</td>\n",
       "      <td>1.0</td>\n",
       "      <td>0.0</td>\n",
       "    </tr>\n",
       "    <tr>\n",
       "      <td>2</td>\n",
       "      <td>25.321033</td>\n",
       "      <td>1065.328054</td>\n",
       "      <td>1.0</td>\n",
       "      <td>0.0</td>\n",
       "    </tr>\n",
       "    <tr>\n",
       "      <td>3</td>\n",
       "      <td>23.919268</td>\n",
       "      <td>1195.758078</td>\n",
       "      <td>1.0</td>\n",
       "      <td>0.0</td>\n",
       "    </tr>\n",
       "    <tr>\n",
       "      <td>4</td>\n",
       "      <td>21.805298</td>\n",
       "      <td>1083.764450</td>\n",
       "      <td>1.0</td>\n",
       "      <td>0.0</td>\n",
       "    </tr>\n",
       "  </tbody>\n",
       "</table>\n",
       "</div>"
      ],
      "text/plain": [
       "       idade  conta_corrente  risco_bom  sexo_masculino\n",
       "0  21.257389      783.127911        0.0             1.0\n",
       "1  21.766573      979.747521        1.0             0.0\n",
       "2  25.321033     1065.328054        1.0             0.0\n",
       "3  23.919268     1195.758078        1.0             0.0\n",
       "4  21.805298     1083.764450        1.0             0.0"
      ]
     },
     "execution_count": 16,
     "metadata": {},
     "output_type": "execute_result"
    }
   ],
   "source": [
    "df2['risco_bom'] = df2.risco.apply(encoder, args=('bom',))\n",
    "df2['sexo_masculino'] = df2.sexo.apply(encoder, args=('masculino',))\n",
    "df2.drop('sexo', axis=1, inplace=True)\n",
    "df2.drop('risco', axis=1, inplace=True)\n",
    "df2.head()"
   ]
  },
  {
   "cell_type": "code",
   "execution_count": 17,
   "metadata": {},
   "outputs": [
    {
     "data": {
      "text/html": [
       "<div>\n",
       "<style scoped>\n",
       "    .dataframe tbody tr th:only-of-type {\n",
       "        vertical-align: middle;\n",
       "    }\n",
       "\n",
       "    .dataframe tbody tr th {\n",
       "        vertical-align: top;\n",
       "    }\n",
       "\n",
       "    .dataframe thead th {\n",
       "        text-align: right;\n",
       "    }\n",
       "</style>\n",
       "<table border=\"1\" class=\"dataframe\">\n",
       "  <thead>\n",
       "    <tr style=\"text-align: right;\">\n",
       "      <th></th>\n",
       "      <th>idade</th>\n",
       "      <th>conta_corrente</th>\n",
       "      <th>risco_bom</th>\n",
       "      <th>sexo_masculino</th>\n",
       "      <th>km_3</th>\n",
       "    </tr>\n",
       "  </thead>\n",
       "  <tbody>\n",
       "    <tr>\n",
       "      <td>0</td>\n",
       "      <td>21.257389</td>\n",
       "      <td>783.127911</td>\n",
       "      <td>0.0</td>\n",
       "      <td>1.0</td>\n",
       "      <td>0</td>\n",
       "    </tr>\n",
       "    <tr>\n",
       "      <td>1</td>\n",
       "      <td>21.766573</td>\n",
       "      <td>979.747521</td>\n",
       "      <td>1.0</td>\n",
       "      <td>0.0</td>\n",
       "      <td>1</td>\n",
       "    </tr>\n",
       "    <tr>\n",
       "      <td>2</td>\n",
       "      <td>25.321033</td>\n",
       "      <td>1065.328054</td>\n",
       "      <td>1.0</td>\n",
       "      <td>0.0</td>\n",
       "      <td>1</td>\n",
       "    </tr>\n",
       "    <tr>\n",
       "      <td>3</td>\n",
       "      <td>23.919268</td>\n",
       "      <td>1195.758078</td>\n",
       "      <td>1.0</td>\n",
       "      <td>0.0</td>\n",
       "      <td>1</td>\n",
       "    </tr>\n",
       "    <tr>\n",
       "      <td>4</td>\n",
       "      <td>21.805298</td>\n",
       "      <td>1083.764450</td>\n",
       "      <td>1.0</td>\n",
       "      <td>0.0</td>\n",
       "      <td>1</td>\n",
       "    </tr>\n",
       "  </tbody>\n",
       "</table>\n",
       "</div>"
      ],
      "text/plain": [
       "       idade  conta_corrente  risco_bom  sexo_masculino  km_3\n",
       "0  21.257389      783.127911        0.0             1.0     0\n",
       "1  21.766573      979.747521        1.0             0.0     1\n",
       "2  25.321033     1065.328054        1.0             0.0     1\n",
       "3  23.919268     1195.758078        1.0             0.0     1\n",
       "4  21.805298     1083.764450        1.0             0.0     1"
      ]
     },
     "execution_count": 17,
     "metadata": {},
     "output_type": "execute_result"
    }
   ],
   "source": [
    "X = MinMaxScaler().fit_transform(df2[['idade', 'conta_corrente', 'risco_bom', 'sexo_masculino']])\n",
    "df2['km_3'] = KMeans(n_clusters=3, random_state=1).fit_predict(X)\n",
    "df2.head()"
   ]
  },
  {
   "cell_type": "code",
   "execution_count": 18,
   "metadata": {},
   "outputs": [
    {
     "name": "stdout",
     "output_type": "stream",
     "text": [
      "Cluster 0\n",
      "- idade: mean = 33.06556739891999\n",
      "- conta_corrente: mean = 2099.935581556636\n",
      "- risco_bom: count = 0.0 %\n",
      "- sexo_masculino: count = 59.04761904761905 %\n",
      "Cluster 1\n",
      "- idade: mean = 31.13198723733135\n",
      "- conta_corrente: mean = 3043.8601326847474\n",
      "- risco_bom: count = 100.0 %\n",
      "- sexo_masculino: count = 0.0 %\n",
      "Cluster 2\n",
      "- idade: mean = 30.934583754682933\n",
      "- conta_corrente: mean = 3301.585452141532\n",
      "- risco_bom: count = 100.0 %\n",
      "- sexo_masculino: count = 100.0 %\n"
     ]
    }
   ],
   "source": [
    "cluster_report(df2, df2.columns.values[0:4], 'km_3')"
   ]
  },
  {
   "cell_type": "code",
   "execution_count": 19,
   "metadata": {},
   "outputs": [],
   "source": [
    "df2['km_4'] = KMeans(n_clusters=4, random_state=1).fit_predict(X)\n",
    "df2['km_5'] = KMeans(n_clusters=5, random_state=1).fit_predict(X)\n",
    "df2['km_6'] = KMeans(n_clusters=6, random_state=1).fit_predict(X)"
   ]
  },
  {
   "cell_type": "code",
   "execution_count": 20,
   "metadata": {},
   "outputs": [
    {
     "name": "stdout",
     "output_type": "stream",
     "text": [
      "Cluster 0\n",
      "- idade: mean = 23.04249450448745\n",
      "- conta_corrente: mean = 885.6266167706968\n",
      "- risco_bom: count = 0.0 %\n",
      "- sexo_masculino: count = 0.0 %\n",
      "Cluster 1\n",
      "- idade: mean = 32.854090296333226\n",
      "- conta_corrente: mean = 5120.53892024885\n",
      "- risco_bom: count = 100.0 %\n",
      "- sexo_masculino: count = 0.0 %\n",
      "Cluster 2\n",
      "- idade: mean = 32.41618857720974\n",
      "- conta_corrente: mean = 5141.148601937596\n",
      "- risco_bom: count = 100.0 %\n",
      "- sexo_masculino: count = 100.0 %\n",
      "Cluster 3\n",
      "- idade: mean = 23.454019079971687\n",
      "- conta_corrente: mean = 902.733633147001\n",
      "- risco_bom: count = 0.0 %\n",
      "- sexo_masculino: count = 100.0 %\n",
      "Cluster 4\n",
      "- idade: mean = 22.162928520248137\n",
      "- conta_corrente: mean = 1127.7377476345093\n",
      "- risco_bom: count = 100.0 %\n",
      "- sexo_masculino: count = 100.0 %\n",
      "Cluster 5\n",
      "- idade: mean = 22.66954579082227\n",
      "- conta_corrente: mean = 1044.6261074209237\n",
      "- risco_bom: count = 100.0 %\n",
      "- sexo_masculino: count = 0.0 %\n",
      "Cluster 6\n",
      "- idade: mean = 46.132040576999614\n",
      "- conta_corrente: mean = 3617.3431555573716\n",
      "- risco_bom: count = 0.0 %\n",
      "- sexo_masculino: count = 100.0 %\n",
      "Cluster 7\n",
      "- idade: mean = 44.974433434322584\n",
      "- conta_corrente: mean = 3701.6971261042777\n",
      "- risco_bom: count = 0.0 %\n",
      "- sexo_masculino: count = 0.0 %\n",
      "Cluster 8\n",
      "- idade: mean = 55.23334953209528\n",
      "- conta_corrente: mean = 3119.618058167428\n",
      "- risco_bom: count = 100.0 %\n",
      "- sexo_masculino: count = 0.0 %\n",
      "Cluster 9\n",
      "- idade: mean = 57.37081185675326\n",
      "- conta_corrente: mean = 3294.386412232267\n",
      "- risco_bom: count = 100.0 %\n",
      "- sexo_masculino: count = 100.0 %\n"
     ]
    }
   ],
   "source": [
    "k = 10\n",
    "df2[f'km_{k}'] = KMeans(n_clusters=k, random_state=1).fit_predict(X)\n",
    "cluster_report(df2, df2.columns.values[0:4], f'km_{k}')"
   ]
  },
  {
   "cell_type": "code",
   "execution_count": 21,
   "metadata": {},
   "outputs": [],
   "source": [
    "def cluster_report_perc(df, columns, cluster_column):\n",
    "    for c in sorted(df[cluster_column].unique()):\n",
    "        print(f'Cluster {c}')\n",
    "        for column in columns:\n",
    "            if len(df[column].unique()) > 2:\n",
    "                value = df[df[cluster_column] == c][column].mean()\n",
    "                ref = df[column].mean()\n",
    "                print(f'- {column}: mean = {round((value - ref) / ref * 100, 2)} %')\n",
    "            else:\n",
    "                n = df[df[cluster_column] == c][column].mean()\n",
    "                print(f'- {column}: count = {n * 100} %')"
   ]
  },
  {
   "cell_type": "code",
   "execution_count": 22,
   "metadata": {},
   "outputs": [
    {
     "name": "stdout",
     "output_type": "stream",
     "text": [
      "Cluster 0\n",
      "- idade: mean = 19.33 %\n",
      "- conta_corrente: mean = 69.12 %\n",
      "- risco_bom: count = 100.0 %\n",
      "- sexo_masculino: count = 0.0 %\n",
      "Cluster 1\n",
      "- idade: mean = 5.3 %\n",
      "- conta_corrente: mean = -23.76 %\n",
      "- risco_bom: count = 0.0 %\n",
      "- sexo_masculino: count = 100.0 %\n",
      "Cluster 2\n",
      "- idade: mean = 16.3 %\n",
      "- conta_corrente: mean = 73.99 %\n",
      "- risco_bom: count = 100.0 %\n",
      "- sexo_masculino: count = 100.0 %\n",
      "Cluster 3\n",
      "- idade: mean = 2.02 %\n",
      "- conta_corrente: mean = -24.15 %\n",
      "- risco_bom: count = 0.0 %\n",
      "- sexo_masculino: count = 0.0 %\n",
      "Cluster 4\n",
      "- idade: mean = -28.5 %\n",
      "- conta_corrente: mean = -62.08 %\n",
      "- risco_bom: count = 100.0 %\n",
      "- sexo_masculino: count = 0.0 %\n",
      "Cluster 5\n",
      "- idade: mean = -30.32 %\n",
      "- conta_corrente: mean = -59.14 %\n",
      "- risco_bom: count = 100.0 %\n",
      "- sexo_masculino: count = 100.0 %\n"
     ]
    }
   ],
   "source": [
    "cluster_report_perc(df2, df2.columns.values[0:4], 'km_6')"
   ]
  },
  {
   "cell_type": "code",
   "execution_count": 26,
   "metadata": {},
   "outputs": [],
   "source": [
    "def cluster_report_perc_df(df, columns, cluster_column):\n",
    "    data = {}\n",
    "    for c in sorted(df[cluster_column].unique()):\n",
    "        data[f'cluster {c}'] = []\n",
    "        for column in columns:\n",
    "            if len(df[column].unique()) > 2:\n",
    "                value = df[df[cluster_column] == c][column].mean()\n",
    "                ref = df[column].mean()\n",
    "                data[f'cluster {c}'].append(round((value - ref) / ref * 100, 2))\n",
    "            else:\n",
    "                n = df[df[cluster_column] == c][column].mean()\n",
    "                data[f'cluster {c}'].append(n * 100)\n",
    "    return pd.DataFrame(data, index=columns)"
   ]
  },
  {
   "cell_type": "code",
   "execution_count": 29,
   "metadata": {},
   "outputs": [
    {
     "data": {
      "text/html": [
       "<div>\n",
       "<style scoped>\n",
       "    .dataframe tbody tr th:only-of-type {\n",
       "        vertical-align: middle;\n",
       "    }\n",
       "\n",
       "    .dataframe tbody tr th {\n",
       "        vertical-align: top;\n",
       "    }\n",
       "\n",
       "    .dataframe thead th {\n",
       "        text-align: right;\n",
       "    }\n",
       "</style>\n",
       "<table border=\"1\" class=\"dataframe\">\n",
       "  <thead>\n",
       "    <tr style=\"text-align: right;\">\n",
       "      <th></th>\n",
       "      <th>idade</th>\n",
       "      <th>conta_corrente</th>\n",
       "      <th>risco_bom</th>\n",
       "      <th>sexo_masculino</th>\n",
       "    </tr>\n",
       "  </thead>\n",
       "  <tbody>\n",
       "    <tr>\n",
       "      <td>cluster 0</td>\n",
       "      <td>19.33</td>\n",
       "      <td>69.12</td>\n",
       "      <td>100.0</td>\n",
       "      <td>0.0</td>\n",
       "    </tr>\n",
       "    <tr>\n",
       "      <td>cluster 1</td>\n",
       "      <td>5.30</td>\n",
       "      <td>-23.76</td>\n",
       "      <td>0.0</td>\n",
       "      <td>100.0</td>\n",
       "    </tr>\n",
       "    <tr>\n",
       "      <td>cluster 2</td>\n",
       "      <td>16.30</td>\n",
       "      <td>73.99</td>\n",
       "      <td>100.0</td>\n",
       "      <td>100.0</td>\n",
       "    </tr>\n",
       "    <tr>\n",
       "      <td>cluster 3</td>\n",
       "      <td>2.02</td>\n",
       "      <td>-24.15</td>\n",
       "      <td>0.0</td>\n",
       "      <td>0.0</td>\n",
       "    </tr>\n",
       "    <tr>\n",
       "      <td>cluster 4</td>\n",
       "      <td>-28.50</td>\n",
       "      <td>-62.08</td>\n",
       "      <td>100.0</td>\n",
       "      <td>0.0</td>\n",
       "    </tr>\n",
       "    <tr>\n",
       "      <td>cluster 5</td>\n",
       "      <td>-30.32</td>\n",
       "      <td>-59.14</td>\n",
       "      <td>100.0</td>\n",
       "      <td>100.0</td>\n",
       "    </tr>\n",
       "  </tbody>\n",
       "</table>\n",
       "</div>"
      ],
      "text/plain": [
       "           idade  conta_corrente  risco_bom  sexo_masculino\n",
       "cluster 0  19.33           69.12      100.0             0.0\n",
       "cluster 1   5.30          -23.76        0.0           100.0\n",
       "cluster 2  16.30           73.99      100.0           100.0\n",
       "cluster 3   2.02          -24.15        0.0             0.0\n",
       "cluster 4 -28.50          -62.08      100.0             0.0\n",
       "cluster 5 -30.32          -59.14      100.0           100.0"
      ]
     },
     "execution_count": 29,
     "metadata": {},
     "output_type": "execute_result"
    }
   ],
   "source": [
    "results = cluster_report_perc_df(df2, df2.columns.values[0:4], 'km_6')\n",
    "results = results.transpose()\n",
    "results"
   ]
  },
  {
   "cell_type": "code",
   "execution_count": 30,
   "metadata": {},
   "outputs": [
    {
     "data": {
      "image/png": "[encoded data removed]",
      "text/plain": [
       "<Figure size 1080x432 with 2 Axes>"
      ]
     },
     "metadata": {
      "needs_background": "light"
     },
     "output_type": "display_data"
    }
   ],
   "source": [
    "import numpy as np\n",
    "import seaborn as sns\n",
    "\n",
    "plt.figure(figsize=(15, 6))\n",
    "s = sns.heatmap(results, linewidths=.5)"
   ]
  }
 ],
 "metadata": {
  "kernelspec": {
   "display_name": "Python 3",
   "language": "python",
   "name": "python3"
  },
  "language_info": {
   "codemirror_mode": {
    "name": "ipython",
    "version": 3
   },
   "file_extension": ".py",
   "mimetype": "text/x-python",
   "name": "python",
   "nbconvert_exporter": "python",
   "pygments_lexer": "ipython3",
   "version": "3.7.4"
  }
 },
 "nbformat": 4,
 "nbformat_minor": 4
}
