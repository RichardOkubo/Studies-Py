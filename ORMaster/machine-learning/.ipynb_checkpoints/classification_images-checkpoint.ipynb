{
 "cells": [
  {
   "cell_type": "code",
   "execution_count": null,
   "metadata": {
    "colab": {},
    "colab_type": "code",
    "id": "D2q8c65DG7ov"
   },
   "outputs": [],
   "source": [
    "!unzip test_set.zip"
   ]
  },
  {
   "cell_type": "code",
   "execution_count": 1,
   "metadata": {
    "colab": {},
    "colab_type": "code",
    "id": "JNt3apWD59s1"
   },
   "outputs": [],
   "source": [
    "import glob\n",
    "import cv2\n",
    "from matplotlib import pyplot as plt\n",
    "import numpy as np\n",
    "\n",
    "ALTURA = 50\n",
    "LARGURA = 50\n",
    "\n",
    "cats = [cv2.imread(file) for file in glob.glob(\"dados/test_set/cats/*.jpg\")]\n",
    "cats = [cv2.cvtColor(cat, cv2.COLOR_BGR2GRAY) for cat in cats]\n",
    "cats = np.array([cv2.resize(cat, (ALTURA, LARGURA)) for cat in cats])\n",
    "data_cats = np.append(cats.reshape(len(cats), ALTURA * LARGURA), np.full((len(cats), 1), 0), axis=1)\n",
    "\n",
    "dogs = [cv2.imread(file) for file in glob.glob(\"dados/test_set/dogs/*.jpg\")]\n",
    "dogs = [cv2.cvtColor(dog, cv2.COLOR_BGR2GRAY) for dog in dogs]\n",
    "dogs = np.array([cv2.resize(dog, (ALTURA, LARGURA)) for dog in dogs])\n",
    "data_dogs = np.append(dogs.reshape(len(dogs), ALTURA * LARGURA), np.full((len(dogs), 1), 1), axis=1)\n",
    "\n",
    "data = np.append(data_cats, data_dogs, axis=0)\n",
    "data = np.random.permutation(data)"
   ]
  },
  {
   "cell_type": "code",
   "execution_count": 4,
   "metadata": {
    "colab": {
     "base_uri": "https://localhost:8080/",
     "height": 140
    },
    "colab_type": "code",
    "id": "xyB85ATc59t5",
    "outputId": "5cc28cf8-42d0-4b39-9f98-68ad92e2f4e4"
   },
   "outputs": [],
   "source": [
    "from sklearn.model_selection import train_test_split\n",
    "\n",
    "X = data[:, :-1]\n",
    "y = data[:, -1]\n",
    "\n",
    "X_train, X_test, y_train, y_test = train_test_split(X, y, train_size=2/3, random_state=1)"
   ]
  },
  {
   "cell_type": "code",
   "execution_count": 5,
   "metadata": {
    "colab": {
     "base_uri": "https://localhost:8080/",
     "height": 34
    },
    "colab_type": "code",
    "id": "pNL03YXJ59t_",
    "outputId": "ab631c0e-471a-4ad1-e1dd-93ebac90ba87"
   },
   "outputs": [
    {
     "data": {
      "text/plain": [
       "0.5525925925925926"
      ]
     },
     "execution_count": 5,
     "metadata": {},
     "output_type": "execute_result"
    }
   ],
   "source": [
    "from sklearn.neural_network import MLPClassifier\n",
    "from sklearn.metrics import accuracy_score\n",
    "\n",
    "model = MLPClassifier(hidden_layer_sizes=(2500), max_iter=200, \n",
    "                      learning_rate_init=0.001, random_state=1, verbose=True)\n",
    "\n",
    "model.fit(X_train, y_train)\n",
    "\n",
    "accuracy_score(y_test, model.predict(X_test))"
   ]
  },
  {
   "cell_type": "code",
   "execution_count": null,
   "metadata": {
    "colab": {
     "base_uri": "https://localhost:8080/",
     "height": 285
    },
    "colab_type": "code",
    "id": "PoaXhjvwNuED",
    "outputId": "b139c507-ff39-42d9-e589-09007ff7a912"
   },
   "outputs": [
    {
     "data": {
      "text/plain": [
       "<matplotlib.image.AxesImage at 0x7f4afdb956d8>"
      ]
     },
     "execution_count": 41,
     "metadata": {
      "tags": []
     },
     "output_type": "execute_result"
    },
    {
     "data": {
      "image/png": "[encoded data removed]",
      "text/plain": [
       "<Figure size 432x288 with 1 Axes>"
      ]
     },
     "metadata": {
      "needs_background": "light",
      "tags": []
     },
     "output_type": "display_data"
    }
   ],
   "source": [
    "auau = cv2.imread('dog.jpeg')\n",
    "auau = cv2.cvtColor(auau, cv2.COLOR_BGR2GRAY)\n",
    "auau = cv2.resize(auau, (ALTURA, LARGURA))\n",
    "plt.imshow(auau)"
   ]
  },
  {
   "cell_type": "code",
   "execution_count": null,
   "metadata": {
    "colab": {
     "base_uri": "https://localhost:8080/",
     "height": 34
    },
    "colab_type": "code",
    "id": "GN-BWFgpOaqS",
    "outputId": "f6a1f2cf-61ed-43fe-825f-9700f8cc5f69"
   },
   "outputs": [
    {
     "data": {
      "text/plain": [
       "array([1])"
      ]
     },
     "execution_count": 48,
     "metadata": {
      "tags": []
     },
     "output_type": "execute_result"
    }
   ],
   "source": [
    "model.predict(auau.reshape(1, ALTURA * LARGURA))"
   ]
  },
  {
   "cell_type": "code",
   "execution_count": null,
   "metadata": {
    "colab": {},
    "colab_type": "code",
    "id": "6YK3QsM5O3uV"
   },
   "outputs": [],
   "source": [
    "len(data)"
   ]
  }
 ],
 "metadata": {
  "colab": {
   "name": "classification_images.ipynb",
   "provenance": []
  },
  "kernelspec": {
   "display_name": "Python 3",
   "language": "python",
   "name": "python3"
  },
  "language_info": {
   "codemirror_mode": {
    "name": "ipython",
    "version": 3
   },
   "file_extension": ".py",
   "mimetype": "text/x-python",
   "name": "python",
   "nbconvert_exporter": "python",
   "pygments_lexer": "ipython3",
   "version": "3.7.4"
  }
 },
 "nbformat": 4,
 "nbformat_minor": 4
}
