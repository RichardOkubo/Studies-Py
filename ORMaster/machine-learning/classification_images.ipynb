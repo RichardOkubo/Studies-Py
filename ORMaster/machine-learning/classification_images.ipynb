{
 "cells": [
  {
   "cell_type": "code",
   "execution_count": null,
   "metadata": {
    "colab": {},
    "colab_type": "code",
    "id": "D2q8c65DG7ov"
   },
   "outputs": [],
   "source": [
    "!unzip test_set.zip"
   ]
  },
  {
   "cell_type": "code",
   "execution_count": 2,
   "metadata": {
    "colab": {},
    "colab_type": "code",
    "id": "JNt3apWD59s1"
   },
   "outputs": [],
   "source": [
    "import glob\n",
    "import cv2\n",
    "from matplotlib import pyplot as plt\n",
    "import numpy as np\n",
    "\n",
    "ALTURA = 50\n",
    "LARGURA = 50\n",
    "\n",
    "cats = [cv2.imread(file) for file in glob.glob(\"dados/test_set/cats/*.jpg\")]\n",
    "cats = [cv2.cvtColor(cat, cv2.COLOR_BGR2GRAY) for cat in cats]\n",
    "cats = np.array([cv2.resize(cat, (ALTURA, LARGURA)) for cat in cats])\n",
    "data_cats = np.append(cats.reshape(len(cats), ALTURA * LARGURA), np.full((len(cats), 1), 0), axis=1)\n",
    "\n",
    "dogs = [cv2.imread(file) for file in glob.glob(\"dados/test_set/dogs/*.jpg\")]\n",
    "dogs = [cv2.cvtColor(dog, cv2.COLOR_BGR2GRAY) for dog in dogs]\n",
    "dogs = np.array([cv2.resize(dog, (ALTURA, LARGURA)) for dog in dogs])\n",
    "data_dogs = np.append(dogs.reshape(len(dogs), ALTURA * LARGURA), np.full((len(dogs), 1), 1), axis=1)\n",
    "\n",
    "data = np.append(data_cats, data_dogs, axis=0)\n",
    "data = np.random.permutation(data)"
   ]
  },
  {
   "cell_type": "code",
   "execution_count": 3,
   "metadata": {
    "colab": {
     "base_uri": "https://localhost:8080/",
     "height": 140
    },
    "colab_type": "code",
    "id": "xyB85ATc59t5",
    "outputId": "5cc28cf8-42d0-4b39-9f98-68ad92e2f4e4"
   },
   "outputs": [],
   "source": [
    "from sklearn.model_selection import train_test_split\n",
    "\n",
    "X = data[:, :-1]\n",
    "y = data[:, -1]\n",
    "\n",
    "X_train, X_test, y_train, y_test = train_test_split(X, y, train_size=2/3, random_state=1)"
   ]
  },
  {
   "cell_type": "code",
   "execution_count": 13,
   "metadata": {
    "colab": {
     "base_uri": "https://localhost:8080/",
     "height": 34
    },
    "colab_type": "code",
    "id": "pNL03YXJ59t_",
    "outputId": "ab631c0e-471a-4ad1-e1dd-93ebac90ba87"
   },
   "outputs": [
    {
     "name": "stdout",
     "output_type": "stream",
     "text": [
      "Iteration 1, loss = inf\n",
      "Iteration 2, loss = inf\n",
      "Iteration 3, loss = inf\n",
      "Iteration 4, loss = inf\n",
      "Iteration 5, loss = 12.68100496\n",
      "Iteration 6, loss = 5.63100397\n",
      "Iteration 7, loss = 4.32913709\n",
      "Iteration 8, loss = 3.23130305\n",
      "Iteration 9, loss = 1.78789483\n",
      "Iteration 10, loss = 2.03875431\n",
      "Iteration 11, loss = 1.40679903\n",
      "Iteration 12, loss = 1.18831044\n",
      "Iteration 13, loss = 0.91752083\n",
      "Iteration 14, loss = 0.73424435\n",
      "Iteration 15, loss = 0.67923355\n",
      "Iteration 16, loss = 0.88150726\n",
      "Iteration 17, loss = 0.68059552\n",
      "Iteration 18, loss = 0.61449469\n",
      "Iteration 19, loss = 0.71579160\n",
      "Iteration 20, loss = 0.73157733\n",
      "Iteration 21, loss = 0.79335388\n",
      "Iteration 22, loss = 1.07206429\n",
      "Iteration 23, loss = 0.85512851\n",
      "Iteration 24, loss = 0.82011755\n",
      "Iteration 25, loss = 0.84974801\n",
      "Iteration 26, loss = 0.72916687\n",
      "Iteration 27, loss = 0.54061631\n",
      "Iteration 28, loss = 0.49351258\n",
      "Iteration 29, loss = 0.46717521\n",
      "Iteration 30, loss = 0.44792250\n",
      "Iteration 31, loss = 0.42716758\n",
      "Iteration 32, loss = 0.41578773\n",
      "Iteration 33, loss = 0.43189333\n",
      "Iteration 34, loss = 0.41209072\n",
      "Iteration 35, loss = 0.42073748\n",
      "Iteration 36, loss = 0.37836944\n",
      "Iteration 37, loss = 0.36826357\n",
      "Iteration 38, loss = 0.39289999\n",
      "Iteration 39, loss = 0.35157567\n",
      "Iteration 40, loss = 0.32411405\n",
      "Iteration 41, loss = 0.33592512\n",
      "Iteration 42, loss = 0.32374005\n",
      "Iteration 43, loss = 0.32049147\n",
      "Iteration 44, loss = 0.28907648\n",
      "Iteration 45, loss = 0.28682091\n",
      "Iteration 46, loss = 0.28031620\n",
      "Iteration 47, loss = 0.27727469\n",
      "Iteration 48, loss = 0.25038855\n",
      "Iteration 49, loss = 0.25574290\n",
      "Iteration 50, loss = 0.26732767\n",
      "Iteration 51, loss = 0.25185871\n",
      "Iteration 52, loss = 0.24400830\n",
      "Iteration 53, loss = 0.24145404\n",
      "Iteration 54, loss = 0.20425596\n",
      "Iteration 55, loss = 0.20761001\n",
      "Iteration 56, loss = 0.18889096\n",
      "Iteration 57, loss = 0.17867567\n",
      "Iteration 58, loss = 0.17476402\n",
      "Iteration 59, loss = 0.20211530\n",
      "Iteration 60, loss = 0.18459298\n",
      "Iteration 61, loss = 0.18787062\n",
      "Iteration 62, loss = 0.17187258\n",
      "Iteration 63, loss = 0.19251962\n",
      "Iteration 64, loss = 0.18762823\n",
      "Iteration 65, loss = 0.14068816\n",
      "Iteration 66, loss = 0.16107980\n",
      "Iteration 67, loss = 0.15903370\n",
      "Iteration 68, loss = 0.18765170\n",
      "Iteration 69, loss = 0.16038204\n",
      "Iteration 70, loss = 0.18233890\n",
      "Iteration 71, loss = 0.16794574\n",
      "Iteration 72, loss = 0.15507474\n",
      "Iteration 73, loss = 0.14061982\n",
      "Iteration 74, loss = 0.13256708\n",
      "Iteration 75, loss = 0.11254866\n",
      "Iteration 76, loss = 0.10533874\n",
      "Iteration 77, loss = 0.10815093\n",
      "Iteration 78, loss = 0.10832816\n",
      "Iteration 79, loss = 0.14121053\n",
      "Iteration 80, loss = 0.16995804\n",
      "Iteration 81, loss = 0.13314568\n",
      "Iteration 82, loss = 0.11974929\n",
      "Iteration 83, loss = 0.11261101\n",
      "Iteration 84, loss = 0.09554951\n",
      "Iteration 85, loss = 0.07661943\n",
      "Iteration 86, loss = 0.07081776\n",
      "Iteration 87, loss = 0.06797572\n",
      "Iteration 88, loss = 0.06090385\n",
      "Iteration 89, loss = 0.08126879\n",
      "Iteration 90, loss = 0.09131905\n",
      "Iteration 91, loss = 0.05946419\n",
      "Iteration 92, loss = 0.05513149\n",
      "Iteration 93, loss = 0.04261969\n",
      "Iteration 94, loss = 0.03867992\n",
      "Iteration 95, loss = 0.04589399\n",
      "Iteration 96, loss = 0.03783054\n",
      "Iteration 97, loss = 0.03014661\n",
      "Iteration 98, loss = 0.03020896\n",
      "Iteration 99, loss = 0.03340205\n",
      "Iteration 100, loss = 0.05313593\n",
      "Iteration 101, loss = 0.04203168\n",
      "Iteration 102, loss = 0.05444433\n",
      "Iteration 103, loss = 0.05787414\n",
      "Iteration 104, loss = 0.20506212\n",
      "Iteration 105, loss = 0.41286169\n",
      "Iteration 106, loss = 0.78521019\n",
      "Iteration 107, loss = 4.08484983\n",
      "Iteration 108, loss = 8.12320065\n",
      "Training loss did not improve more than tol=0.000100 for 10 consecutive epochs. Stopping.\n"
     ]
    },
    {
     "data": {
      "text/plain": [
       "0.5081481481481481"
      ]
     },
     "execution_count": 13,
     "metadata": {},
     "output_type": "execute_result"
    }
   ],
   "source": [
    "from sklearn.neural_network import MLPClassifier\n",
    "from sklearn.metrics import accuracy_score\n",
    "\n",
    "model = MLPClassifier(hidden_layer_sizes=(500), max_iter=500, \n",
    "                      learning_rate_init=0.001, random_state=1, verbose=True)\n",
    "\n",
    "model.fit(X_train, y_train)\n",
    "\n",
    "accuracy_score(y_test, model.predict(X_test))"
   ]
  },
  {
   "cell_type": "code",
   "execution_count": 7,
   "metadata": {
    "colab": {
     "base_uri": "https://localhost:8080/",
     "height": 285
    },
    "colab_type": "code",
    "id": "PoaXhjvwNuED",
    "outputId": "b139c507-ff39-42d9-e589-09007ff7a912"
   },
   "outputs": [
    {
     "data": {
      "text/plain": [
       "<matplotlib.image.AxesImage at 0x7fe4562bc990>"
      ]
     },
     "execution_count": 7,
     "metadata": {},
     "output_type": "execute_result"
    },
    {
     "data": {
      "image/png": "[encoded data removed]",
      "text/plain": [
       "<Figure size 432x288 with 1 Axes>"
      ]
     },
     "metadata": {
      "needs_background": "light"
     },
     "output_type": "display_data"
    }
   ],
   "source": [
    "auau = cv2.imread('auau.jpeg')\n",
    "auau = cv2.cvtColor(auau, cv2.COLOR_BGR2GRAY)\n",
    "auau = cv2.resize(auau, (ALTURA, LARGURA))\n",
    "plt.imshow(auau) "
   ]
  },
  {
   "cell_type": "code",
   "execution_count": 14,
   "metadata": {
    "colab": {
     "base_uri": "https://localhost:8080/",
     "height": 34
    },
    "colab_type": "code",
    "id": "GN-BWFgpOaqS",
    "outputId": "f6a1f2cf-61ed-43fe-825f-9700f8cc5f69"
   },
   "outputs": [
    {
     "data": {
      "text/plain": [
       "array([0])"
      ]
     },
     "execution_count": 14,
     "metadata": {},
     "output_type": "execute_result"
    }
   ],
   "source": [
    "model.predict(auau.reshape(1, ALTURA * LARGURA))"
   ]
  },
  {
   "cell_type": "code",
   "execution_count": null,
   "metadata": {
    "colab": {},
    "colab_type": "code",
    "id": "6YK3QsM5O3uV"
   },
   "outputs": [],
   "source": [
    "len(data)"
   ]
  }
 ],
 "metadata": {
  "colab": {
   "name": "classification_images.ipynb",
   "provenance": []
  },
  "kernelspec": {
   "display_name": "Python 3",
   "language": "python",
   "name": "python3"
  },
  "language_info": {
   "codemirror_mode": {
    "name": "ipython",
    "version": 3
   },
   "file_extension": ".py",
   "mimetype": "text/x-python",
   "name": "python",
   "nbconvert_exporter": "python",
   "pygments_lexer": "ipython3",
   "version": "3.7.4"
  }
 },
 "nbformat": 4,
 "nbformat_minor": 4
}
