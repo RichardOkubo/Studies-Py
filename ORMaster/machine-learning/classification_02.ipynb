{
 "cells": [
  {
   "cell_type": "markdown",
   "metadata": {},
   "source": [
    "# Classificação (Parte 02)\n",
    "\n",
    "### Avaliando o classificador\n",
    "O método mais usual de aferição da qualidade de um classificador é a aplicação de um teste em parte do conjunto utilizado originalmente para treinamento. Como a porção separada para teste já está classificada, podemos medir o percentual de acerto do classificador, verificando assim a sua qualidade. Para separar o conjunto de treino e o conjunto de testes, utilizamos a função ```train_test_split()``` presente em ```sklearn.model_selection```. Para o cálculo da acurácia, utilizamos a função ```accuracy_score()``` presente em ```sklearn.metrics```."
   ]
  },
  {
   "cell_type": "code",
   "execution_count": 2,
   "metadata": {},
   "outputs": [],
   "source": [
    "import pandas as pd\n",
    "import matplotlib.pyplot as plt\n",
    "\n",
    "df = pd.read_csv('dados/exemplo2.csv')\n",
    "X = df.drop('risco', axis=1)\n",
    "y = df.risco"
   ]
  },
  {
   "cell_type": "markdown",
   "metadata": {},
   "source": [
    "Criaremos as variáveis ```X_train``` e ```y_train``` representando os inputs e outputs de treinamento e ```X_test```, ```y_test``` representando os inputs e outputs de teste. Na função ```train_test_split()``` passaremos como parâmetro o conjunto completo de inputs e outputs ```X``` e ```y``` juntamente com o parâmetro ```test_size``` (tamanho do conjunto de teste), que configuraremos com o valor de 0.33 (1/3). Para fixar a aleatoriedade da divisão dos conjuntos, configuraremos o parâmetro ```random_state=42```."
   ]
  },
  {
   "cell_type": "code",
   "execution_count": 3,
   "metadata": {},
   "outputs": [],
   "source": [
    "from sklearn.model_selection import train_test_split\n",
    "\n",
    "X_train, X_test, y_train, y_test = train_test_split(X, y, test_size=1/3, random_state=42)"
   ]
  },
  {
   "cell_type": "markdown",
   "metadata": {},
   "source": [
    "Criaremos um classificador KNN configurado com ```n_neighbors=5``` e o chamaremos de ```knn```. Faremos o treinamento utilizando o conjunto de inputs ```X_train``` e o conjunto de output ```y_train``` Uma vez treinado, calcularemos a acuracidade do classificador utilizando a função ```accuracy_score()``` que recebe como parâmetros os inputs conhecidos ```y_test``` e os inputs previstos a partir de ```X_test``` através da função ```predict()```."
   ]
  },
  {
   "cell_type": "code",
   "execution_count": 6,
   "metadata": {},
   "outputs": [
    {
     "data": {
      "text/plain": [
       "0.802158273381295"
      ]
     },
     "execution_count": 6,
     "metadata": {},
     "output_type": "execute_result"
    }
   ],
   "source": [
    "from sklearn.metrics import accuracy_score\n",
    "from sklearn.neighbors import KNeighborsClassifier\n",
    "\n",
    "knn = KNeighborsClassifier(n_neighbors=5)\n",
    "knn.fit(X_train, y_train)\n",
    "accuracy_score(y_test, knn.predict(X_test))"
   ]
  },
  {
   "cell_type": "markdown",
   "metadata": {},
   "source": [
    "### Pré processando _inputs_\n",
    "Podemos aumentar a qualidade do classificador através do tratamento dos inputs. Para classificadores baseados em cálculo de distância, obetemos resultados melhores através da normalização das variáveis de _input_. Nesse caso, temos duas variáveis que possuem escalas distintas (idade e conta corrente). Aplicando uma função de normalização, podemos aumentar significamente a qualidade da acurácia.\n",
    "\n",
    "Para o exemplo, aplicaremos o normalizador ```MinMaxScaler```, comprimindo os dados no intervalo entre 0 e 1. Criaremos um objeto da classe ```MinMaxScaler``` chamado ```normalizador``` e utilizaremos o comando ```MinMaxScaler.fit_transform()``` para ajustar o normalizador aos dados e executar a transformação do mesmo, passando como parâmetro os inputs ```X```. "
   ]
  },
  {
   "cell_type": "code",
   "execution_count": 7,
   "metadata": {},
   "outputs": [
    {
     "data": {
      "text/plain": [
       "array([[0.05586473, 0.06720224],\n",
       "       [0.06499436, 0.09938945],\n",
       "       [0.12872564, 0.11339923],\n",
       "       ...,\n",
       "       [0.85424954, 0.36522222],\n",
       "       [0.62401886, 0.42781034],\n",
       "       [0.61473291, 0.54031447]])"
      ]
     },
     "execution_count": 7,
     "metadata": {},
     "output_type": "execute_result"
    }
   ],
   "source": [
    "from sklearn.preprocessing import MinMaxScaler\n",
    "\n",
    "normalizador = MinMaxScaler()\n",
    "X_norm = normalizador.fit_transform(X)\n",
    "X_norm"
   ]
  },
  {
   "cell_type": "markdown",
   "metadata": {},
   "source": [
    "Para verificar se houve melhoria na qualidade do classificador, repetimos o procedimento de teste utilizando o novo conjunto de inputs ```X_norm```."
   ]
  },
  {
   "cell_type": "code",
   "execution_count": 9,
   "metadata": {},
   "outputs": [
    {
     "data": {
      "text/plain": [
       "0.8715151515151515"
      ]
     },
     "execution_count": 9,
     "metadata": {},
     "output_type": "execute_result"
    }
   ],
   "source": [
    "X_train, X_test, y_train, y_test = train_test_split(X_norm, y, test_size=0.33, random_state=42)\n",
    "\n",
    "knn2 = KNeighborsClassifier(n_neighbors=5)\n",
    "knn2.fit(X_train, y_train)\n",
    "\n",
    "accuracy_score(y_test, knn3.predict(X_test))"
   ]
  },
  {
   "cell_type": "markdown",
   "metadata": {},
   "source": [
    "Observamos o aumento na precisão do classificador de 0.8021 para 0.8715."
   ]
  },
  {
   "cell_type": "markdown",
   "metadata": {},
   "source": [
    "### Previsões com dados normalizados\n",
    "Para dados normalizados, precisamos aplicar a mesma normalização executada nos dados de treinamento, nos dados de previsão utilizando o comando ```MinMaxScaler.transform()```. Para prever o risco de um novo cliente com 18 anos e movimentação de 1000 reais, por exemplo, não podemos passar esses valores sem aplicar a normalização. "
   ]
  },
  {
   "cell_type": "code",
   "execution_count": 10,
   "metadata": {},
   "outputs": [
    {
     "data": {
      "text/plain": [
       "array(['bom'], dtype=object)"
      ]
     },
     "execution_count": 10,
     "metadata": {},
     "output_type": "execute_result"
    }
   ],
   "source": [
    "X_new = [[18, 1000]]\n",
    "X_new = normalizador.transform(X_new)\n",
    "knn2.predict(X_new)"
   ]
  }
 ],
 "metadata": {
  "kernelspec": {
   "display_name": "Python 3",
   "language": "python",
   "name": "python3"
  },
  "language_info": {
   "codemirror_mode": {
    "name": "ipython",
    "version": 3
   },
   "file_extension": ".py",
   "mimetype": "text/x-python",
   "name": "python",
   "nbconvert_exporter": "python",
   "pygments_lexer": "ipython3",
   "version": "3.7.1"
  }
 },
 "nbformat": 4,
 "nbformat_minor": 4
}
